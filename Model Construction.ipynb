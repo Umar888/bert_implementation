{
 "cells": [
  {
   "cell_type": "code",
   "execution_count": 1,
   "id": "071505dc",
   "metadata": {},
   "outputs": [
    {
     "data": {
      "text/html": [
       "<div>\n",
       "<style scoped>\n",
       "    .dataframe tbody tr th:only-of-type {\n",
       "        vertical-align: middle;\n",
       "    }\n",
       "\n",
       "    .dataframe tbody tr th {\n",
       "        vertical-align: top;\n",
       "    }\n",
       "\n",
       "    .dataframe thead th {\n",
       "        text-align: right;\n",
       "    }\n",
       "</style>\n",
       "<table border=\"1\" class=\"dataframe\">\n",
       "  <thead>\n",
       "    <tr style=\"text-align: right;\">\n",
       "      <th></th>\n",
       "      <th>Annotator</th>\n",
       "      <th>Paper</th>\n",
       "      <th>Cited-by</th>\n",
       "      <th>Follow-up</th>\n",
       "      <th>Citing Sentence</th>\n",
       "      <th>Tagged Sentence</th>\n",
       "    </tr>\n",
       "  </thead>\n",
       "  <tbody>\n",
       "    <tr>\n",
       "      <th>0</th>\n",
       "      <td>A</td>\n",
       "      <td>A00-1043</td>\n",
       "      <td>C00-2140</td>\n",
       "      <td>0</td>\n",
       "      <td>Since we only use shallow methods for textual ...</td>\n",
       "      <td>Since we only use shallow methods for textual ...</td>\n",
       "    </tr>\n",
       "    <tr>\n",
       "      <th>1</th>\n",
       "      <td>A</td>\n",
       "      <td>A00-1043</td>\n",
       "      <td>P02-1057</td>\n",
       "      <td>0</td>\n",
       "      <td>Sentence simplification systems (Chandrasekar ...</td>\n",
       "      <td>Sentence simplification systems (GTREF) are ca...</td>\n",
       "    </tr>\n",
       "    <tr>\n",
       "      <th>2</th>\n",
       "      <td>A</td>\n",
       "      <td>A97-1011</td>\n",
       "      <td>W09-1118</td>\n",
       "      <td>1</td>\n",
       "      <td>Each token is represented using a fairly stand...</td>\n",
       "      <td>Each token is represented using a fairly stand...</td>\n",
       "    </tr>\n",
       "    <tr>\n",
       "      <th>3</th>\n",
       "      <td>A</td>\n",
       "      <td>A97-1011</td>\n",
       "      <td>A00-2017</td>\n",
       "      <td>1</td>\n",
       "      <td>The training and the test data were processed ...</td>\n",
       "      <td>The training and the test data were processed ...</td>\n",
       "    </tr>\n",
       "    <tr>\n",
       "      <th>4</th>\n",
       "      <td>A</td>\n",
       "      <td>A97-1011</td>\n",
       "      <td>C00-2099</td>\n",
       "      <td>0</td>\n",
       "      <td>The only other high-\f",
       "delity computational rend...</td>\n",
       "      <td>The only other high-_x005f\f",
       "delity computationa...</td>\n",
       "    </tr>\n",
       "  </tbody>\n",
       "</table>\n",
       "</div>"
      ],
      "text/plain": [
       "  Annotator     Paper  Cited-by  Follow-up  \\\n",
       "0         A  A00-1043  C00-2140          0   \n",
       "1         A  A00-1043  P02-1057          0   \n",
       "2         A  A97-1011  W09-1118          1   \n",
       "3         A  A97-1011  A00-2017          1   \n",
       "4         A  A97-1011  C00-2099          0   \n",
       "\n",
       "                                     Citing Sentence  \\\n",
       "0  Since we only use shallow methods for textual ...   \n",
       "1  Sentence simplification systems (Chandrasekar ...   \n",
       "2  Each token is represented using a fairly stand...   \n",
       "3  The training and the test data were processed ...   \n",
       "4  The only other high-\n",
       "delity computational rend...   \n",
       "\n",
       "                                     Tagged Sentence  \n",
       "0  Since we only use shallow methods for textual ...  \n",
       "1  Sentence simplification systems (GTREF) are ca...  \n",
       "2  Each token is represented using a fairly stand...  \n",
       "3  The training and the test data were processed ...  \n",
       "4  The only other high-_x005f\n",
       "delity computationa...  "
      ]
     },
     "execution_count": 1,
     "metadata": {},
     "output_type": "execute_result"
    }
   ],
   "source": [
    "import pandas as pd\n",
    "import tensorflow as tf\n",
    "import tensorflow_hub as hub\n",
    "import tensorflow_text as text\n",
    "from transformers import BertTokenizer\n",
    "import tensorflow_addons as tfa\n",
    "import matplotlib.pyplot as plt\n",
    "%matplotlib inline\n",
    "\n",
    "\n",
    "from tensorflow.keras.optimizers import SGD\n",
    "df = pd.read_csv(\"/Users/revglue/study/main_work/my_working/my_data_set/my_data_set.csv\")\n",
    "df.head(5)"
   ]
  },
  {
   "cell_type": "code",
   "execution_count": 2,
   "id": "175ee5ea",
   "metadata": {},
   "outputs": [],
   "source": [
    "df['Citation Type']=df['Follow-up'].apply(lambda x: 'Related work' if x==0 else ('Comparison' if x==1 else ('Using the work' if x==2 else 'Extending the work')))"
   ]
  },
  {
   "cell_type": "code",
   "execution_count": 3,
   "id": "675efe77",
   "metadata": {},
   "outputs": [],
   "source": [
    "import math\n",
    "\n",
    "def softmax(z):\n",
    "    z_exp = [math.exp(i) for i in z]\n",
    "    sum_z_exp = sum(z_exp)\n",
    "    return [i / sum_z_exp for i in z_exp]"
   ]
  },
  {
   "cell_type": "code",
   "execution_count": 4,
   "id": "a0fce35c",
   "metadata": {},
   "outputs": [
    {
     "data": {
      "text/html": [
       "<div>\n",
       "<style scoped>\n",
       "    .dataframe tbody tr th:only-of-type {\n",
       "        vertical-align: middle;\n",
       "    }\n",
       "\n",
       "    .dataframe tbody tr th {\n",
       "        vertical-align: top;\n",
       "    }\n",
       "\n",
       "    .dataframe thead th {\n",
       "        text-align: right;\n",
       "    }\n",
       "</style>\n",
       "<table border=\"1\" class=\"dataframe\">\n",
       "  <thead>\n",
       "    <tr style=\"text-align: right;\">\n",
       "      <th></th>\n",
       "      <th>Annotator</th>\n",
       "      <th>Paper</th>\n",
       "      <th>Cited-by</th>\n",
       "      <th>Follow-up</th>\n",
       "      <th>Citing Sentence</th>\n",
       "      <th>Tagged Sentence</th>\n",
       "      <th>Citation Type</th>\n",
       "      <th>Coarse Label</th>\n",
       "      <th>normalized</th>\n",
       "    </tr>\n",
       "  </thead>\n",
       "  <tbody>\n",
       "    <tr>\n",
       "      <th>0</th>\n",
       "      <td>A</td>\n",
       "      <td>A00-1043</td>\n",
       "      <td>C00-2140</td>\n",
       "      <td>0</td>\n",
       "      <td>Since we only use shallow methods for textual ...</td>\n",
       "      <td>Since we only use shallow methods for textual ...</td>\n",
       "      <td>Related work</td>\n",
       "      <td>Incidental</td>\n",
       "      <td>0.000508</td>\n",
       "    </tr>\n",
       "    <tr>\n",
       "      <th>1</th>\n",
       "      <td>A</td>\n",
       "      <td>A00-1043</td>\n",
       "      <td>P02-1057</td>\n",
       "      <td>0</td>\n",
       "      <td>Sentence simplification systems (Chandrasekar ...</td>\n",
       "      <td>Sentence simplification systems (GTREF) are ca...</td>\n",
       "      <td>Related work</td>\n",
       "      <td>Incidental</td>\n",
       "      <td>0.000508</td>\n",
       "    </tr>\n",
       "    <tr>\n",
       "      <th>2</th>\n",
       "      <td>A</td>\n",
       "      <td>A97-1011</td>\n",
       "      <td>W09-1118</td>\n",
       "      <td>1</td>\n",
       "      <td>Each token is represented using a fairly stand...</td>\n",
       "      <td>Each token is represented using a fairly stand...</td>\n",
       "      <td>Comparison</td>\n",
       "      <td>Incidental</td>\n",
       "      <td>0.001380</td>\n",
       "    </tr>\n",
       "    <tr>\n",
       "      <th>3</th>\n",
       "      <td>A</td>\n",
       "      <td>A97-1011</td>\n",
       "      <td>A00-2017</td>\n",
       "      <td>1</td>\n",
       "      <td>The training and the test data were processed ...</td>\n",
       "      <td>The training and the test data were processed ...</td>\n",
       "      <td>Comparison</td>\n",
       "      <td>Incidental</td>\n",
       "      <td>0.001380</td>\n",
       "    </tr>\n",
       "    <tr>\n",
       "      <th>4</th>\n",
       "      <td>A</td>\n",
       "      <td>A97-1011</td>\n",
       "      <td>C00-2099</td>\n",
       "      <td>0</td>\n",
       "      <td>The only other high-\f",
       "delity computational rend...</td>\n",
       "      <td>The only other high-_x005f\f",
       "delity computationa...</td>\n",
       "      <td>Related work</td>\n",
       "      <td>Incidental</td>\n",
       "      <td>0.000508</td>\n",
       "    </tr>\n",
       "    <tr>\n",
       "      <th>5</th>\n",
       "      <td>A</td>\n",
       "      <td>A97-1011</td>\n",
       "      <td>W04-1505</td>\n",
       "      <td>0</td>\n",
       "      <td>The Statistical Dependency Model Most successf...</td>\n",
       "      <td>The Statistical Dependency Model Most successf...</td>\n",
       "      <td>Related work</td>\n",
       "      <td>Incidental</td>\n",
       "      <td>0.000508</td>\n",
       "    </tr>\n",
       "    <tr>\n",
       "      <th>6</th>\n",
       "      <td>A</td>\n",
       "      <td>A97-1011</td>\n",
       "      <td>P99-1033</td>\n",
       "      <td>0</td>\n",
       "      <td>J~irvinen and Tapananinen have demonstrated an...</td>\n",
       "      <td>J~irvinen and Tapananinen have demonstrated an...</td>\n",
       "      <td>Related work</td>\n",
       "      <td>Incidental</td>\n",
       "      <td>0.000508</td>\n",
       "    </tr>\n",
       "    <tr>\n",
       "      <th>7</th>\n",
       "      <td>A</td>\n",
       "      <td>A97-1011</td>\n",
       "      <td>W06-0202</td>\n",
       "      <td>3</td>\n",
       "      <td>Generating Dependency Patterns Three dependenc...</td>\n",
       "      <td>Generating Dependency Patterns Three dependenc...</td>\n",
       "      <td>Extending the work</td>\n",
       "      <td>Important</td>\n",
       "      <td>0.010196</td>\n",
       "    </tr>\n",
       "    <tr>\n",
       "      <th>8</th>\n",
       "      <td>A</td>\n",
       "      <td>A97-1011</td>\n",
       "      <td>P01-1006</td>\n",
       "      <td>3</td>\n",
       "      <td>Pre-processing tools Parser The current versio...</td>\n",
       "      <td>Pre-processing tools Parser The current versio...</td>\n",
       "      <td>Extending the work</td>\n",
       "      <td>Important</td>\n",
       "      <td>0.010196</td>\n",
       "    </tr>\n",
       "    <tr>\n",
       "      <th>9</th>\n",
       "      <td>A</td>\n",
       "      <td>A97-1011</td>\n",
       "      <td>E12-1072</td>\n",
       "      <td>0</td>\n",
       "      <td>The corpus was parsed by Connexor’s Machinese ...</td>\n",
       "      <td>The corpus was parsed by Connexor’s Machinese ...</td>\n",
       "      <td>Related work</td>\n",
       "      <td>Incidental</td>\n",
       "      <td>0.000508</td>\n",
       "    </tr>\n",
       "    <tr>\n",
       "      <th>10</th>\n",
       "      <td>A</td>\n",
       "      <td>C00-1072</td>\n",
       "      <td>C02-1130</td>\n",
       "      <td>2</td>\n",
       "      <td>A topic signature, as described in (Lin and Ho...</td>\n",
       "      <td>A topic signature, as described in TREF, is a ...</td>\n",
       "      <td>Using the work</td>\n",
       "      <td>Important</td>\n",
       "      <td>0.003751</td>\n",
       "    </tr>\n",
       "    <tr>\n",
       "      <th>11</th>\n",
       "      <td>A</td>\n",
       "      <td>C00-1072</td>\n",
       "      <td>C04-1077</td>\n",
       "      <td>1</td>\n",
       "      <td>This is an extension of Lin’s method (Lin and ...</td>\n",
       "      <td>This is an extension of Lin’s method TREF.</td>\n",
       "      <td>Comparison</td>\n",
       "      <td>Incidental</td>\n",
       "      <td>0.001380</td>\n",
       "    </tr>\n",
       "    <tr>\n",
       "      <th>12</th>\n",
       "      <td>A</td>\n",
       "      <td>C00-1072</td>\n",
       "      <td>C08-1021</td>\n",
       "      <td>1</td>\n",
       "      <td>Topic Signatures Topic Signatures (TS) are wor...</td>\n",
       "      <td>Topic Signatures Topic Signatures (TS) are wor...</td>\n",
       "      <td>Comparison</td>\n",
       "      <td>Incidental</td>\n",
       "      <td>0.001380</td>\n",
       "    </tr>\n",
       "    <tr>\n",
       "      <th>13</th>\n",
       "      <td>A</td>\n",
       "      <td>C00-1072</td>\n",
       "      <td>C08-1124</td>\n",
       "      <td>1</td>\n",
       "      <td>Recently, content features were also well stud...</td>\n",
       "      <td>Recently, content features were also well stud...</td>\n",
       "      <td>Comparison</td>\n",
       "      <td>Incidental</td>\n",
       "      <td>0.001380</td>\n",
       "    </tr>\n",
       "    <tr>\n",
       "      <th>14</th>\n",
       "      <td>A</td>\n",
       "      <td>C00-1072</td>\n",
       "      <td>D08-1080</td>\n",
       "      <td>0</td>\n",
       "      <td>More advanced methods for query expansion use ...</td>\n",
       "      <td>More advanced methods for query expansion use ...</td>\n",
       "      <td>Related work</td>\n",
       "      <td>Incidental</td>\n",
       "      <td>0.000508</td>\n",
       "    </tr>\n",
       "  </tbody>\n",
       "</table>\n",
       "</div>"
      ],
      "text/plain": [
       "   Annotator     Paper  Cited-by  Follow-up  \\\n",
       "0          A  A00-1043  C00-2140          0   \n",
       "1          A  A00-1043  P02-1057          0   \n",
       "2          A  A97-1011  W09-1118          1   \n",
       "3          A  A97-1011  A00-2017          1   \n",
       "4          A  A97-1011  C00-2099          0   \n",
       "5          A  A97-1011  W04-1505          0   \n",
       "6          A  A97-1011  P99-1033          0   \n",
       "7          A  A97-1011  W06-0202          3   \n",
       "8          A  A97-1011  P01-1006          3   \n",
       "9          A  A97-1011  E12-1072          0   \n",
       "10         A  C00-1072  C02-1130          2   \n",
       "11         A  C00-1072  C04-1077          1   \n",
       "12         A  C00-1072  C08-1021          1   \n",
       "13         A  C00-1072  C08-1124          1   \n",
       "14         A  C00-1072  D08-1080          0   \n",
       "\n",
       "                                      Citing Sentence  \\\n",
       "0   Since we only use shallow methods for textual ...   \n",
       "1   Sentence simplification systems (Chandrasekar ...   \n",
       "2   Each token is represented using a fairly stand...   \n",
       "3   The training and the test data were processed ...   \n",
       "4   The only other high-\n",
       "delity computational rend...   \n",
       "5   The Statistical Dependency Model Most successf...   \n",
       "6   J~irvinen and Tapananinen have demonstrated an...   \n",
       "7   Generating Dependency Patterns Three dependenc...   \n",
       "8   Pre-processing tools Parser The current versio...   \n",
       "9   The corpus was parsed by Connexor’s Machinese ...   \n",
       "10  A topic signature, as described in (Lin and Ho...   \n",
       "11  This is an extension of Lin’s method (Lin and ...   \n",
       "12  Topic Signatures Topic Signatures (TS) are wor...   \n",
       "13  Recently, content features were also well stud...   \n",
       "14  More advanced methods for query expansion use ...   \n",
       "\n",
       "                                      Tagged Sentence       Citation Type  \\\n",
       "0   Since we only use shallow methods for textual ...        Related work   \n",
       "1   Sentence simplification systems (GTREF) are ca...        Related work   \n",
       "2   Each token is represented using a fairly stand...          Comparison   \n",
       "3   The training and the test data were processed ...          Comparison   \n",
       "4   The only other high-_x005f\n",
       "delity computationa...        Related work   \n",
       "5   The Statistical Dependency Model Most successf...        Related work   \n",
       "6   J~irvinen and Tapananinen have demonstrated an...        Related work   \n",
       "7   Generating Dependency Patterns Three dependenc...  Extending the work   \n",
       "8   Pre-processing tools Parser The current versio...  Extending the work   \n",
       "9   The corpus was parsed by Connexor’s Machinese ...        Related work   \n",
       "10  A topic signature, as described in TREF, is a ...      Using the work   \n",
       "11         This is an extension of Lin’s method TREF.          Comparison   \n",
       "12  Topic Signatures Topic Signatures (TS) are wor...          Comparison   \n",
       "13  Recently, content features were also well stud...          Comparison   \n",
       "14  More advanced methods for query expansion use ...        Related work   \n",
       "\n",
       "   Coarse Label  normalized  \n",
       "0    Incidental    0.000508  \n",
       "1    Incidental    0.000508  \n",
       "2    Incidental    0.001380  \n",
       "3    Incidental    0.001380  \n",
       "4    Incidental    0.000508  \n",
       "5    Incidental    0.000508  \n",
       "6    Incidental    0.000508  \n",
       "7     Important    0.010196  \n",
       "8     Important    0.010196  \n",
       "9    Incidental    0.000508  \n",
       "10    Important    0.003751  \n",
       "11   Incidental    0.001380  \n",
       "12   Incidental    0.001380  \n",
       "13   Incidental    0.001380  \n",
       "14   Incidental    0.000508  "
      ]
     },
     "execution_count": 4,
     "metadata": {},
     "output_type": "execute_result"
    }
   ],
   "source": [
    "df['Coarse Label']=df['Follow-up'].apply(lambda x: 'Incidental' if x==0 or x==1 else 'Important')\n",
    "df['normalized']=softmax(df['Follow-up'])\n",
    "\n",
    "df.head(15)"
   ]
  },
  {
   "cell_type": "code",
   "execution_count": 5,
   "id": "03aa5e13",
   "metadata": {},
   "outputs": [
    {
     "data": {
      "text/plain": [
       "1    283\n",
       "0    252\n",
       "2     55\n",
       "3     27\n",
       "Name: Follow-up, dtype: int64"
      ]
     },
     "execution_count": 5,
     "metadata": {},
     "output_type": "execute_result"
    }
   ],
   "source": [
    "df['Follow-up'].value_counts()"
   ]
  },
  {
   "cell_type": "code",
   "execution_count": 6,
   "id": "e461b6a1",
   "metadata": {},
   "outputs": [],
   "source": [
    "def pre_process(text):\n",
    "    text = BeautifulSoup(text).get_text()\n",
    "    # fetch alphabetic characters\n",
    "    text = re.sub(\"[^a-zA-Z]\", \" \", text)\n",
    "    # convert text to lower case\n",
    "    text = text.lower()\n",
    "    # split text into tokens to remove whitespaces\n",
    "    tokens = text.split()\n",
    "    return \" \".join(tokens)"
   ]
  },
  {
   "cell_type": "code",
   "execution_count": 7,
   "id": "610e7a4a",
   "metadata": {},
   "outputs": [],
   "source": [
    "tokenizer = BertTokenizer.from_pretrained('bert-base-cased')"
   ]
  },
  {
   "cell_type": "code",
   "execution_count": 8,
   "id": "aa0aaa97",
   "metadata": {},
   "outputs": [
    {
     "name": "stderr",
     "output_type": "stream",
     "text": [
      "2022-08-18 23:01:08.835638: I tensorflow/core/platform/cpu_feature_guard.cc:193] This TensorFlow binary is optimized with oneAPI Deep Neural Network Library (oneDNN) to use the following CPU instructions in performance-critical operations:  AVX2 AVX512F AVX512_VNNI FMA\n",
      "To enable them in other operations, rebuild TensorFlow with the appropriate compiler flags.\n"
     ]
    }
   ],
   "source": [
    "token = tokenizer.encode_plus(\n",
    "    df['Citing Sentence'].iloc[0], \n",
    "    max_length=256, \n",
    "    truncation=True, \n",
    "    padding='max_length', \n",
    "    add_special_tokens=True,\n",
    "    return_tensors='tf'\n",
    ")"
   ]
  },
  {
   "cell_type": "code",
   "execution_count": 9,
   "id": "80a09094",
   "metadata": {},
   "outputs": [],
   "source": [
    "import numpy as np\n",
    "\n",
    "X_input_ids = np.zeros((len(df), 256))\n",
    "X_attn_masks = np.zeros((len(df), 256))"
   ]
  },
  {
   "cell_type": "code",
   "execution_count": 10,
   "id": "6f4fee24",
   "metadata": {},
   "outputs": [],
   "source": [
    "def generate_training_data(df, ids, masks, tokenizer):\n",
    "    for i, text in tqdm(enumerate(df['Citing Sentence'])):\n",
    "        tokenized_text = tokenizer.encode_plus(\n",
    "            text,\n",
    "            max_length=256, \n",
    "            truncation=True, \n",
    "            padding='max_length', \n",
    "            add_special_tokens=True,\n",
    "            return_tensors='tf'\n",
    "        )\n",
    "        ids[i, :] = tokenized_text.input_ids\n",
    "        masks[i, :] = tokenized_text.attention_mask\n",
    "    return ids, masks"
   ]
  },
  {
   "cell_type": "code",
   "execution_count": 11,
   "id": "a2f17765",
   "metadata": {},
   "outputs": [
    {
     "data": {
      "application/vnd.jupyter.widget-view+json": {
       "model_id": "ef1ab885ad804da0a4872b15a88e98f6",
       "version_major": 2,
       "version_minor": 0
      },
      "text/plain": [
       "0it [00:00, ?it/s]"
      ]
     },
     "metadata": {},
     "output_type": "display_data"
    }
   ],
   "source": [
    "from tqdm.auto import tqdm\n",
    "\n",
    "X_input_ids, X_attn_masks = generate_training_data(df, X_input_ids, X_attn_masks, tokenizer)"
   ]
  },
  {
   "cell_type": "code",
   "execution_count": 12,
   "id": "8478d4cc",
   "metadata": {},
   "outputs": [
    {
     "data": {
      "text/plain": [
       "array([[  101.,  1967.,  1195., ...,     0.,     0.,     0.],\n",
       "       [  101., 14895.,  5208., ...,     0.,     0.,     0.],\n",
       "       [  101.,  2994., 22559., ...,     0.,     0.,     0.],\n",
       "       ...,\n",
       "       [  101.,  1284.,  1231., ...,     0.,     0.,     0.],\n",
       "       [  101., 22841.,  5537., ...,     0.,     0.,     0.],\n",
       "       [  101.,  1706., 16143., ...,     0.,     0.,     0.]])"
      ]
     },
     "execution_count": 12,
     "metadata": {},
     "output_type": "execute_result"
    }
   ],
   "source": [
    "X_input_ids"
   ]
  },
  {
   "cell_type": "code",
   "execution_count": 13,
   "id": "ccb16e8d",
   "metadata": {},
   "outputs": [
    {
     "data": {
      "text/plain": [
       "array([[1., 1., 1., ..., 0., 0., 0.],\n",
       "       [1., 1., 1., ..., 0., 0., 0.],\n",
       "       [1., 1., 1., ..., 0., 0., 0.],\n",
       "       ...,\n",
       "       [1., 1., 1., ..., 0., 0., 0.],\n",
       "       [1., 1., 1., ..., 0., 0., 0.],\n",
       "       [1., 1., 1., ..., 0., 0., 0.]])"
      ]
     },
     "execution_count": 13,
     "metadata": {},
     "output_type": "execute_result"
    }
   ],
   "source": [
    "X_attn_masks"
   ]
  },
  {
   "cell_type": "code",
   "execution_count": 14,
   "id": "2b0417f1",
   "metadata": {},
   "outputs": [
    {
     "data": {
      "text/plain": [
       "(617, 4)"
      ]
     },
     "execution_count": 14,
     "metadata": {},
     "output_type": "execute_result"
    }
   ],
   "source": [
    "labels = np.zeros((len(df), 4))\n",
    "labels.shape"
   ]
  },
  {
   "cell_type": "code",
   "execution_count": 15,
   "id": "f9455af2",
   "metadata": {},
   "outputs": [],
   "source": [
    "labels[np.arange(len(df)), df['Follow-up'].values] = 1 # one-hot encoded target tensor"
   ]
  },
  {
   "cell_type": "code",
   "execution_count": 16,
   "id": "354a5012",
   "metadata": {},
   "outputs": [
    {
     "data": {
      "text/plain": [
       "array([[1., 0., 0., 0.],\n",
       "       [1., 0., 0., 0.],\n",
       "       [0., 1., 0., 0.],\n",
       "       ...,\n",
       "       [0., 1., 0., 0.],\n",
       "       [0., 1., 0., 0.],\n",
       "       [0., 1., 0., 0.]])"
      ]
     },
     "execution_count": 16,
     "metadata": {},
     "output_type": "execute_result"
    }
   ],
   "source": [
    "labels"
   ]
  },
  {
   "cell_type": "code",
   "execution_count": 17,
   "id": "eb61c3bf",
   "metadata": {},
   "outputs": [
    {
     "data": {
      "text/plain": [
       "<TakeDataset element_spec=(TensorSpec(shape=(256,), dtype=tf.float64, name=None), TensorSpec(shape=(256,), dtype=tf.float64, name=None), TensorSpec(shape=(4,), dtype=tf.float64, name=None))>"
      ]
     },
     "execution_count": 17,
     "metadata": {},
     "output_type": "execute_result"
    }
   ],
   "source": [
    "dataset = tf.data.Dataset.from_tensor_slices((X_input_ids, X_attn_masks, labels))\n",
    "dataset.take(1) # one sample data"
   ]
  },
  {
   "cell_type": "code",
   "execution_count": 18,
   "id": "0f64c238",
   "metadata": {},
   "outputs": [],
   "source": [
    "def CitationDatasetMapFunction(input_ids, attn_masks, labels):\n",
    "    return {\n",
    "        'input_ids': input_ids,\n",
    "        'attention_mask': attn_masks\n",
    "    }, labels"
   ]
  },
  {
   "cell_type": "code",
   "execution_count": 19,
   "id": "59775ffc",
   "metadata": {},
   "outputs": [],
   "source": [
    "dataset = dataset.map(CitationDatasetMapFunction) # converting to required format for tensorflow dataset"
   ]
  },
  {
   "cell_type": "code",
   "execution_count": 20,
   "id": "d58e6a19",
   "metadata": {},
   "outputs": [
    {
     "data": {
      "text/plain": [
       "<TakeDataset element_spec=({'input_ids': TensorSpec(shape=(256,), dtype=tf.float64, name=None), 'attention_mask': TensorSpec(shape=(256,), dtype=tf.float64, name=None)}, TensorSpec(shape=(4,), dtype=tf.float64, name=None))>"
      ]
     },
     "execution_count": 20,
     "metadata": {},
     "output_type": "execute_result"
    }
   ],
   "source": [
    "dataset.take(1)"
   ]
  },
  {
   "cell_type": "code",
   "execution_count": 21,
   "id": "f40c89e7",
   "metadata": {},
   "outputs": [],
   "source": [
    "dataset = dataset.shuffle(10000).batch(16, drop_remainder=True) # batch size, drop any left out tensor"
   ]
  },
  {
   "cell_type": "code",
   "execution_count": 22,
   "id": "d6eb5a9b",
   "metadata": {},
   "outputs": [
    {
     "data": {
      "text/plain": [
       "<TakeDataset element_spec=({'input_ids': TensorSpec(shape=(16, 256), dtype=tf.float64, name=None), 'attention_mask': TensorSpec(shape=(16, 256), dtype=tf.float64, name=None)}, TensorSpec(shape=(16, 4), dtype=tf.float64, name=None))>"
      ]
     },
     "execution_count": 22,
     "metadata": {},
     "output_type": "execute_result"
    }
   ],
   "source": [
    "dataset.take(1)"
   ]
  },
  {
   "cell_type": "code",
   "execution_count": 23,
   "id": "dfddb11c",
   "metadata": {},
   "outputs": [],
   "source": [
    "p = 0.8\n",
    "train_size = int((len(df)/16)*p) # for each 4 batch of data we will have len(df)//16 samples, take 80% of that for train."
   ]
  },
  {
   "cell_type": "code",
   "execution_count": 24,
   "id": "0c1cc751",
   "metadata": {},
   "outputs": [
    {
     "name": "stdout",
     "output_type": "stream",
     "text": [
      "30\n",
      "617\n"
     ]
    }
   ],
   "source": [
    "print(train_size)\n",
    "print(len(df))"
   ]
  },
  {
   "cell_type": "code",
   "execution_count": 25,
   "id": "f2bff21d",
   "metadata": {},
   "outputs": [],
   "source": [
    "train_dataset = dataset.take(train_size)\n",
    "val_dataset = dataset.skip(train_size)"
   ]
  },
  {
   "cell_type": "code",
   "execution_count": 26,
   "id": "d0b294c9",
   "metadata": {},
   "outputs": [
    {
     "data": {
      "text/plain": [
       "30"
      ]
     },
     "execution_count": 26,
     "metadata": {},
     "output_type": "execute_result"
    }
   ],
   "source": [
    "len(train_dataset)"
   ]
  },
  {
   "cell_type": "code",
   "execution_count": 27,
   "id": "d9675b79",
   "metadata": {},
   "outputs": [],
   "source": [
    "from transformers import TFBertModel"
   ]
  },
  {
   "cell_type": "code",
   "execution_count": 28,
   "id": "c3ca0b8d",
   "metadata": {},
   "outputs": [
    {
     "name": "stderr",
     "output_type": "stream",
     "text": [
      "Some layers from the model checkpoint at bert-base-cased were not used when initializing TFBertModel: ['nsp___cls', 'mlm___cls']\n",
      "- This IS expected if you are initializing TFBertModel from the checkpoint of a model trained on another task or with another architecture (e.g. initializing a BertForSequenceClassification model from a BertForPreTraining model).\n",
      "- This IS NOT expected if you are initializing TFBertModel from the checkpoint of a model that you expect to be exactly identical (initializing a BertForSequenceClassification model from a BertForSequenceClassification model).\n",
      "All the layers of TFBertModel were initialized from the model checkpoint at bert-base-cased.\n",
      "If your task is similar to the task the model of the checkpoint was trained on, you can already use TFBertModel for predictions without further training.\n"
     ]
    }
   ],
   "source": [
    "model = TFBertModel.from_pretrained('bert-base-cased') # bert base model with pretrained weights"
   ]
  },
  {
   "cell_type": "code",
   "execution_count": 29,
   "id": "8dd501fd",
   "metadata": {},
   "outputs": [
    {
     "name": "stdout",
     "output_type": "stream",
     "text": [
      "Model: \"model\"\n",
      "__________________________________________________________________________________________________\n",
      " Layer (type)                   Output Shape         Param #     Connected to                     \n",
      "==================================================================================================\n",
      " input_ids (InputLayer)         [(None, 256)]        0           []                               \n",
      "                                                                                                  \n",
      " attention_mask (InputLayer)    [(None, 256)]        0           []                               \n",
      "                                                                                                  \n",
      " tf_bert_model (TFBertModel)    TFBaseModelOutputWi  108310272   ['input_ids[0][0]',              \n",
      "                                thPoolingAndCrossAt               'attention_mask[0][0]']         \n",
      "                                tentions(last_hidde                                               \n",
      "                                n_state=(None, 256,                                               \n",
      "                                 768),                                                            \n",
      "                                 pooler_output=(Non                                               \n",
      "                                e, 768),                                                          \n",
      "                                 past_key_values=No                                               \n",
      "                                ne, hidden_states=N                                               \n",
      "                                one, attentions=Non                                               \n",
      "                                e, cross_attentions                                               \n",
      "                                =None)                                                            \n",
      "                                                                                                  \n",
      " intermediate_layer (Dense)     (None, 512)          393728      ['tf_bert_model[0][1]']          \n",
      "                                                                                                  \n",
      " output_layer (Dense)           (None, 4)            2052        ['intermediate_layer[0][0]']     \n",
      "                                                                                                  \n",
      "==================================================================================================\n",
      "Total params: 108,706,052\n",
      "Trainable params: 108,706,052\n",
      "Non-trainable params: 0\n",
      "__________________________________________________________________________________________________\n"
     ]
    }
   ],
   "source": [
    "input_ids = tf.keras.layers.Input(shape=(256,), name='input_ids', dtype='int32')\n",
    "attn_masks = tf.keras.layers.Input(shape=(256,), name='attention_mask', dtype='int32')\n",
    "\n",
    "bert_embds = model(input_ids, attention_mask=attn_masks)[1] # 0 -> activation layer (3D), 1 -> pooled output layer (2D)\n",
    "intermediate_layer = tf.keras.layers.Dense(512, activation='relu', name='intermediate_layer')(bert_embds)\n",
    "output_layer = tf.keras.layers.Dense(4, activation='softmax', name='output_layer')(intermediate_layer) # softmax -> calcs probs of classes\n",
    "\n",
    "citation_model = tf.keras.Model(inputs=[input_ids, attn_masks], outputs=output_layer)\n",
    "citation_model.summary()"
   ]
  },
  {
   "cell_type": "code",
   "execution_count": 30,
   "id": "ced44347",
   "metadata": {},
   "outputs": [],
   "source": [
    "optim = tf.keras.optimizers.Adam(learning_rate=1e-5, decay=1e-6)\n",
    "loss_func = 'categorical_crossentropy'\n",
    "acc = tf.keras.metrics.CategoricalAccuracy('accuracy')"
   ]
  },
  {
   "cell_type": "code",
   "execution_count": 31,
   "id": "8fe15f9a",
   "metadata": {},
   "outputs": [],
   "source": [
    "citation_model.compile(optimizer=optim, loss=loss_func, metrics=[tf.keras.metrics.CategoricalAccuracy('accuracy'),\n",
    "                              tf.keras.metrics.Precision(),\n",
    "                              tf.keras.metrics.Recall(),\n",
    "                              tfa.metrics.F1Score(num_classes=4,\n",
    "                                                  average='micro',\n",
    "                                                  threshold=0.5)])"
   ]
  },
  {
   "cell_type": "code",
   "execution_count": 32,
   "id": "cb90c946",
   "metadata": {},
   "outputs": [
    {
     "name": "stdout",
     "output_type": "stream",
     "text": [
      "Epoch 1/10\n",
      "30/30 [==============================] - 2082s 68s/step - loss: 1.1734 - accuracy: 0.4938 - precision: 0.5238 - recall: 0.2750 - f1_score: 0.3607 - val_loss: 0.9162 - val_accuracy: 0.7031 - val_precision: 0.7333 - val_recall: 0.6016 - val_f1_score: 0.6609\n",
      "Epoch 2/10\n",
      "30/30 [==============================] - 1824s 61s/step - loss: 0.9023 - accuracy: 0.6771 - precision: 0.7251 - recall: 0.6208 - f1_score: 0.6689 - val_loss: 0.7670 - val_accuracy: 0.7109 - val_precision: 0.7607 - val_recall: 0.6953 - val_f1_score: 0.7265\n",
      "Epoch 3/10\n",
      "30/30 [==============================] - 1640s 55s/step - loss: 0.7729 - accuracy: 0.7312 - precision: 0.7815 - recall: 0.6854 - f1_score: 0.7303 - val_loss: 0.6359 - val_accuracy: 0.7891 - val_precision: 0.8305 - val_recall: 0.7656 - val_f1_score: 0.7967\n",
      "Epoch 4/10\n",
      "30/30 [==============================] - 1632s 55s/step - loss: 0.6591 - accuracy: 0.7854 - precision: 0.8142 - recall: 0.7396 - f1_score: 0.7751 - val_loss: 0.7153 - val_accuracy: 0.7031 - val_precision: 0.7563 - val_recall: 0.7031 - val_f1_score: 0.7287\n",
      "Epoch 5/10\n",
      "30/30 [==============================] - 1546s 52s/step - loss: 0.5861 - accuracy: 0.8062 - precision: 0.8455 - recall: 0.7750 - f1_score: 0.8087 - val_loss: 0.5652 - val_accuracy: 0.8359 - val_precision: 0.8644 - val_recall: 0.7969 - val_f1_score: 0.8293\n",
      "Epoch 6/10\n",
      "30/30 [==============================] - 1529s 51s/step - loss: 0.5403 - accuracy: 0.8333 - precision: 0.8518 - recall: 0.8021 - f1_score: 0.8262 - val_loss: 0.3634 - val_accuracy: 0.8984 - val_precision: 0.9160 - val_recall: 0.8516 - val_f1_score: 0.8826\n",
      "Epoch 7/10\n",
      "30/30 [==============================] - 1515s 51s/step - loss: 0.4375 - accuracy: 0.8687 - precision: 0.8931 - recall: 0.8354 - f1_score: 0.8633 - val_loss: 0.4080 - val_accuracy: 0.8750 - val_precision: 0.8926 - val_recall: 0.8438 - val_f1_score: 0.8675\n",
      "Epoch 8/10\n",
      "30/30 [==============================] - 1593s 53s/step - loss: 0.4526 - accuracy: 0.8583 - precision: 0.8750 - recall: 0.8167 - f1_score: 0.8448 - val_loss: 0.2373 - val_accuracy: 0.9609 - val_precision: 0.9600 - val_recall: 0.9375 - val_f1_score: 0.9486\n",
      "Epoch 9/10\n",
      "30/30 [==============================] - 1584s 53s/step - loss: 0.3917 - accuracy: 0.8958 - precision: 0.9165 - recall: 0.8687 - f1_score: 0.8920 - val_loss: 0.1770 - val_accuracy: 0.9531 - val_precision: 0.9606 - val_recall: 0.9531 - val_f1_score: 0.9569\n",
      "Epoch 10/10\n",
      "30/30 [==============================] - 1599s 53s/step - loss: 0.3347 - accuracy: 0.9021 - precision: 0.9161 - recall: 0.8875 - f1_score: 0.9016 - val_loss: 0.2621 - val_accuracy: 0.9375 - val_precision: 0.9444 - val_recall: 0.9297 - val_f1_score: 0.9370\n"
     ]
    }
   ],
   "source": [
    "hist = citation_model.fit(\n",
    "    train_dataset,\n",
    "    validation_data=val_dataset,\n",
    "    batch_size=8,\n",
    "    verbose=1,                    \n",
    "    epochs=10\n",
    ")"
   ]
  },
  {
   "cell_type": "code",
   "execution_count": 33,
   "id": "de44fc09",
   "metadata": {},
   "outputs": [
    {
     "name": "stderr",
     "output_type": "stream",
     "text": [
      "WARNING:absl:Found untraced functions such as embeddings_layer_call_fn, embeddings_layer_call_and_return_conditional_losses, encoder_layer_call_fn, encoder_layer_call_and_return_conditional_losses, pooler_layer_call_fn while saving (showing 5 of 420). These functions will not be directly callable after loading.\n"
     ]
    },
    {
     "name": "stdout",
     "output_type": "stream",
     "text": [
      "INFO:tensorflow:Assets written to: sentiment_model/assets\n"
     ]
    },
    {
     "name": "stderr",
     "output_type": "stream",
     "text": [
      "INFO:tensorflow:Assets written to: sentiment_model/assets\n"
     ]
    }
   ],
   "source": [
    "citation_model.save('sentiment_model')"
   ]
  },
  {
   "cell_type": "code",
   "execution_count": 35,
   "id": "c69389ba",
   "metadata": {},
   "outputs": [
    {
     "data": {
      "text/plain": [
       "<matplotlib.legend.Legend at 0x7fa0bf327850>"
      ]
     },
     "execution_count": 35,
     "metadata": {},
     "output_type": "execute_result"
    },
    {
     "data": {
      "image/png": "[encoded data removed]",
      "text/plain": [
       "<Figure size 720x720 with 1 Axes>"
      ]
     },
     "metadata": {
      "needs_background": "light"
     },
     "output_type": "display_data"
    }
   ],
   "source": [
    "plt.figure(figsize=(10, 10))\n",
    "plt.title('Accuracy')\n",
    "\n",
    "xaxis = np.arange(len(hist.history['accuracy']))\n",
    "plt.plot(xaxis, hist.history['accuracy'], label='Train set')\n",
    "plt.plot(xaxis, hist.history['val_accuracy'], label='Validation set')\n",
    "plt.legend()"
   ]
  },
  {
   "cell_type": "code",
   "execution_count": 41,
   "id": "1ddaae8a",
   "metadata": {},
   "outputs": [],
   "source": [
    "def plot_confusion_matrix(X_test, y_test, model):\n",
    "    y_pred = model.predict(X_test)\n",
    "    y_pred = [np.argmax(i) for i in model.predict(X_test)]\n",
    "\n",
    "    con_mat = tf.math.confusion_matrix(labels=y_test, predictions=y_pred).numpy()\n",
    "\n",
    "    con_mat_norm = np.around(con_mat.astype('float') / con_mat.sum(axis=1)[:, np.newaxis], decimals=2)\n",
    "    label_names = list(range(len(con_mat_norm)))\n",
    "\n",
    "    con_mat_df = pd.DataFrame(con_mat_norm,\n",
    "                              index=label_names, \n",
    "                              columns=label_names)\n",
    "\n",
    "    figure = plt.figure(figsize=(10, 10))\n",
    "    sns.heatmap(con_mat_df, cmap=plt.cm.Blues, annot=True)\n",
    "    plt.ylabel('True label')\n",
    "    plt.xlabel('Predicted label')"
   ]
  },
  {
   "cell_type": "code",
   "execution_count": 37,
   "id": "f139b0a3",
   "metadata": {},
   "outputs": [
    {
     "name": "stdout",
     "output_type": "stream",
     "text": [
      "Accuracy: 91.41%\n"
     ]
    }
   ],
   "source": [
    "scores = citation_model.evaluate(val_dataset, verbose=0)\n",
    "print(\"Accuracy: %.2f%%\" % (scores[1] * 100))"
   ]
  },
  {
   "cell_type": "code",
   "execution_count": 44,
   "id": "3c0f1943",
   "metadata": {},
   "outputs": [
    {
     "data": {
      "text/plain": [
       "<SkipDataset element_spec=({'input_ids': TensorSpec(shape=(16, 256), dtype=tf.float64, name=None), 'attention_mask': TensorSpec(shape=(16, 256), dtype=tf.float64, name=None)}, TensorSpec(shape=(16, 4), dtype=tf.float64, name=None))>"
      ]
     },
     "execution_count": 44,
     "metadata": {},
     "output_type": "execute_result"
    }
   ],
   "source": [
    "val_dataset"
   ]
  },
  {
   "cell_type": "code",
   "execution_count": null,
   "id": "aafa92cb",
   "metadata": {},
   "outputs": [],
   "source": []
  }
 ],
 "metadata": {
  "kernelspec": {
   "display_name": "Python 3 (ipykernel)",
   "language": "python",
   "name": "python3"
  },
  "language_info": {
   "codemirror_mode": {
    "name": "ipython",
    "version": 3
   },
   "file_extension": ".py",
   "mimetype": "text/x-python",
   "name": "python",
   "nbconvert_exporter": "python",
   "pygments_lexer": "ipython3",
   "version": "3.9.7"
  }
 },
 "nbformat": 4,
 "nbformat_minor": 5
}
