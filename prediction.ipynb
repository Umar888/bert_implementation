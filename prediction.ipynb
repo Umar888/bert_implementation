{
 "cells": [
  {
   "cell_type": "code",
   "execution_count": 6,
   "id": "45ca67f2",
   "metadata": {},
   "outputs": [],
   "source": [
    "import pandas as pd\n",
    "import tensorflow as tf\n",
    "from transformers import BertTokenizer\n",
    "from tqdm.auto import tqdm\n",
    "import numpy as np\n",
    "from transformers import TFBertModel\n",
    "from tensorflow.keras.optimizers import SGD"
   ]
  },
  {
   "cell_type": "code",
   "execution_count": 7,
   "id": "6ae1165c",
   "metadata": {},
   "outputs": [],
   "source": [
    "citation_model = tf.keras.models.load_model('sentiment_model')\n",
    "\n",
    "tokenizer = BertTokenizer.from_pretrained('bert-base-cased')\n",
    "\n",
    "def prepare_data(input_text, tokenizer):\n",
    "    token = tokenizer.encode_plus(\n",
    "        input_text,\n",
    "        max_length=256, \n",
    "        truncation=True, \n",
    "        padding='max_length', \n",
    "        add_special_tokens=True,\n",
    "        return_tensors='tf'\n",
    "    )\n",
    "    return {\n",
    "        'input_ids': tf.cast(token.input_ids, tf.float64),\n",
    "        'attention_mask': tf.cast(token.attention_mask, tf.float64)\n",
    "    }\n",
    "\n",
    "\n",
    "def make_prediction(model, processed_data, classes=['Related work', 'Comparison', 'Using the work', 'Extending the work']):\n",
    "    probs = model.predict(processed_data)[0]\n",
    "    return classes[np.argmax(probs)]"
   ]
  },
  {
   "cell_type": "code",
   "execution_count": 15,
   "id": "6dd9bad3",
   "metadata": {},
   "outputs": [
    {
     "name": "stdout",
     "output_type": "stream",
     "text": [
      "Enter citation text here: Finkel et al. (2005) hand-set penalties for inconsistency in entity labeling at different occurrences in the text, based on some statistics from training data.\n",
      "1/1 [==============================] - 0s 475ms/step\n",
      "Predicted Citing Type: Related work\n"
     ]
    }
   ],
   "source": [
    "input_text = input('Enter citation text here: ')\n",
    "processed_data = prepare_data(input_text, tokenizer)\n",
    "result = make_prediction(citation_model,processed_data)\n",
    "print(f\"Predicted Citing Type: {result}\")"
   ]
  },
  {
   "cell_type": "code",
   "execution_count": null,
   "id": "9b27cb87",
   "metadata": {},
   "outputs": [],
   "source": []
  }
 ],
 "metadata": {
  "kernelspec": {
   "display_name": "Python 3 (ipykernel)",
   "language": "python",
   "name": "python3"
  },
  "language_info": {
   "codemirror_mode": {
    "name": "ipython",
    "version": 3
   },
   "file_extension": ".py",
   "mimetype": "text/x-python",
   "name": "python",
   "nbconvert_exporter": "python",
   "pygments_lexer": "ipython3",
   "version": "3.9.7"
  }
 },
 "nbformat": 4,
 "nbformat_minor": 5
}
